{
 "cells": [
  {
   "cell_type": "markdown",
   "metadata": {},
   "source": [
    "# Create enriched movie dataset from The Movie Database API\n",
    "\n",
    "* MovieLens latest data can be downloaded at http://grouplens.org/datasets/movielens/\n",
    "* This demo uses the `ml-latest-small` dataset of 100k ratings, 9k movies and 700 users\n",
    "* Data enrichment requires access to [The Movie Database API](https://www.themoviedb.org/documentation/api)"
   ]
  },
  {
   "cell_type": "markdown",
   "metadata": {},
   "source": [
    "**Note** set up index mappings _before_ loading data\n",
    "\n",
    "_Using Spark 1.6.1_"
   ]
  },
  {
   "cell_type": "markdown",
   "metadata": {},
   "source": [
    "## Load ratings data into Elasticsearch"
   ]
  },
  {
   "cell_type": "code",
   "execution_count": 24,
   "metadata": {
    "collapsed": true
   },
   "outputs": [],
   "source": [
    "from pyspark.sql.functions import udf, col\n",
    "from pyspark.sql.types import *\n",
    "\n",
    "ms_ts = udf(lambda x: int(x) * 1000, LongType())"
   ]
  },
  {
   "cell_type": "code",
   "execution_count": null,
   "metadata": {
    "collapsed": false
   },
   "outputs": [],
   "source": [
    "import csv\n",
    "from pyspark.sql.types import *\n",
    "with open(\"data/ml-latest-small/ratings.csv\") as f:\n",
    "    reader = csv.reader(f)\n",
    "    cols = reader.next()\n",
    "    ratings = [l for l in reader]\n",
    "ratings_df = sqlContext.createDataFrame(ratings, cols) \\\n",
    "    .select(\"userId\", \"movieId\", col(\"rating\").cast(DoubleType()), ms_ts(\"timestamp\").alias(\"timestamp\"))\n",
    "ratings_df.write.format(\"org.elasticsearch.spark.sql\").save(\"demo/ratings\")"
   ]
  },
  {
   "cell_type": "markdown",
   "metadata": {},
   "source": [
    "## Generate random names for each unique user and save to ES"
   ]
  },
  {
   "cell_type": "code",
   "execution_count": 30,
   "metadata": {
    "collapsed": false
   },
   "outputs": [],
   "source": [
    "import names\n",
    "# define UDF to create random user names\n",
    "random_name = udf(lambda x: names.get_full_name(), StringType())"
   ]
  },
  {
   "cell_type": "code",
   "execution_count": 31,
   "metadata": {
    "collapsed": false
   },
   "outputs": [],
   "source": [
    "users = ratings_df.select(\"userId\").distinct().select(\"userId\", random_name(\"userId\").alias(\"name\"))\n",
    "users.write.format(\"org.elasticsearch.spark.sql\").option(\"es.mapping.id\", \"userId\").save(\"demo/users\")"
   ]
  },
  {
   "cell_type": "markdown",
   "metadata": {},
   "source": [
    "## Enrich movie data with TMDB metadata"
   ]
  },
  {
   "cell_type": "code",
   "execution_count": 8,
   "metadata": {
    "collapsed": false
   },
   "outputs": [
    {
     "name": "stdout",
     "output_type": "stream",
     "text": [
      "+-------+--------------------+--------------------+------+\n",
      "|movieId|               title|              genres|tmdbId|\n",
      "+-------+--------------------+--------------------+------+\n",
      "| 105246|Mood Indigo (L'Ã©...|       Drama|Fantasy|157820|\n",
      "| 108090|Dragon Ball: The ...|Action|Adventure|...| 39148|\n",
      "|   1304|Butch Cassidy and...|      Action|Western|   642|\n",
      "|   1593|Picture Perfect (...|      Comedy|Romance|  9413|\n",
      "|   1755|Shooting Fish (1997)|      Comedy|Romance| 25719|\n",
      "+-------+--------------------+--------------------+------+\n",
      "only showing top 5 rows\n",
      "\n"
     ]
    }
   ],
   "source": [
    "with open(\"data/ml-latest-small/movies.csv\") as f:\n",
    "    reader = csv.reader(f)\n",
    "    cols = reader.next()\n",
    "    raw_movies = sqlContext.createDataFrame([l for l in reader], cols)\n",
    "with open(\"data/ml-latest-small/links.csv\") as f:\n",
    "    reader = csv.reader(f)\n",
    "    cols = reader.next()\n",
    "    link_data = sqlContext.createDataFrame([l for l in reader], cols)\n",
    "movie_data = raw_movies.join(link_data, raw_movies.movieId == link_data.movieId)\\\n",
    "    .select(raw_movies.movieId, raw_movies.title, raw_movies.genres, link_data.tmdbId)\n",
    "num_movies = movie_data.count()\n",
    "movie_data.show(5)\n",
    "data = movie_data.collect()"
   ]
  },
  {
   "cell_type": "code",
   "execution_count": 9,
   "metadata": {
    "collapsed": true
   },
   "outputs": [],
   "source": [
    "import tmdbsimple as tmdb\n",
    "tmdb.API_KEY = 'YOUR_KEY'\n",
    "# base URL for TMDB poster images\n",
    "IMAGE_URL = 'https://image.tmdb.org/t/p/w500'\n",
    "import csv\n",
    "from requests import HTTPError"
   ]
  },
  {
   "cell_type": "code",
   "execution_count": null,
   "metadata": {
    "collapsed": false
   },
   "outputs": [],
   "source": [
    "enriched = []\n",
    "i = 0\n",
    "for row in data:\n",
    "    try:\n",
    "        m = tmdb.Movies(row.tmdbId).info()\n",
    "        poster_url = IMAGE_URL + m['poster_path'] if 'poster_path' in m and m['poster_path'] is not None else \"\"\n",
    "        movie = {\n",
    "            \"movieId\": row.movieId,\n",
    "            \"title\": m['title'],\n",
    "            \"originalTitle\": row.title,\n",
    "            \"genres\": row.genres,\n",
    "            \"overview\": m['overview'],\n",
    "            \"release_date\": m['release_date'],\n",
    "            \"popularity\": m['popularity'],\n",
    "            \"original_language\": m['original_language'],\n",
    "            \"image_url\": poster_url\n",
    "        }\n",
    "        enriched.append(movie)\n",
    "    except HTTPError as e:\n",
    "        print \"Encountered error: %s for movieId=%d title=%s\" % (e, row.movieId, row.title)\n",
    "        movie = {\n",
    "            \"movieId\": row.movieId,\n",
    "            \"title\": row.title,\n",
    "            \"originalTitle\": row.title,\n",
    "            \"genres\": row.genres,\n",
    "            \"overview\": \"\",\n",
    "            \"release_date\": \"\",\n",
    "            \"popularity\": 0,\n",
    "            \"original_language\": \"\",\n",
    "            \"image_url\": \"\"\n",
    "        }\n",
    "        enriched.append(movie)\n",
    "    i += 1\n",
    "    if i % 1 == 0: print \"Enriched movie %s of %s\" % (i, num_movies)"
   ]
  },
  {
   "cell_type": "markdown",
   "metadata": {},
   "source": [
    "### Write enriched movie data to Elasticsearch"
   ]
  },
  {
   "cell_type": "code",
   "execution_count": 52,
   "metadata": {
    "collapsed": false
   },
   "outputs": [],
   "source": [
    "from elasticsearch import Elasticsearch\n",
    "es = Elasticsearch()\n",
    "for m in enriched:\n",
    "    if 'release_date' in m and m['release_date'] == \"\": m.pop('release_date')\n",
    "    es.index(\"demo\", \"movies\", id=m['movieId'], body=m)"
   ]
  }
 ],
 "metadata": {
  "kernelspec": {
   "display_name": "Python 2",
   "language": "python",
   "name": "python2"
  },
  "language_info": {
   "codemirror_mode": {
    "name": "ipython",
    "version": 2
   },
   "file_extension": ".py",
   "mimetype": "text/x-python",
   "name": "python",
   "nbconvert_exporter": "python",
   "pygments_lexer": "ipython2",
   "version": "2.7.12"
  }
 },
 "nbformat": 4,
 "nbformat_minor": 0
}
